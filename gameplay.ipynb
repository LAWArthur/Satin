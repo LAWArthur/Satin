{
 "cells": [
  {
   "cell_type": "markdown",
   "metadata": {},
   "source": [
    "# Satin!\n",
    "\n",
    "以下在大部分没有歧义的情况下可以连续写（如南蛮大闪万箭写作 egw）；存在歧义时要加空格（如对2 sa，对3 tin写为 2s 3d）\n",
    "\n",
    "| 键位 | 技能 |\n",
    "| ---- | ---- |\n",
    "| `a` | 饼 |\n",
    "| n`s`a`d`b | 对n使用a个sa和b个tin(a,b为1时可省略；不出sa/tin时省略`s`a/`d`b；nsssddd的写法也可以；特别地，ns8是8sa) |\n",
    "| `f` | 防 |\n",
    "| n`q` | 弹 |\n",
    "| (n)`e` | 南蛮（n存在时是单南，下同） |\n",
    "| (n)`g` | 大闪 |\n",
    "| (n)`h` | 火舞 |\n",
    "| `fe`/`fg`/`fh` | 防xxx |\n",
    "| `r` | 箭雨 |\n",
    "| `w` | 万箭 |\n",
    "| `t`a | a个酒桃（a=1时可省略；ttt的写法也可以） |\n",
    "| `v` | 核爆 |\n",
    "| `z` | 自缢 |\n",
    "| `x` | 反自缢 |\n",
    "| `c` | 自爆 |\n",
    "| `l` | 罗纳 |\n",
    "| `juesha` | 绝杀！爽！ |\n"
   ]
  },
  {
   "cell_type": "markdown",
   "metadata": {},
   "source": [
    "**按顺序运行到底就行了**"
   ]
  },
  {
   "cell_type": "code",
   "execution_count": null,
   "metadata": {},
   "outputs": [],
   "source": [
    "from game import *\n",
    "from skills import *\n",
    "from config import config"
   ]
  },
  {
   "cell_type": "code",
   "execution_count": null,
   "metadata": {},
   "outputs": [],
   "source": [
    "config['nplayers'] = 3\n",
    "config['hp'] = 6"
   ]
  },
  {
   "cell_type": "code",
   "execution_count": null,
   "metadata": {},
   "outputs": [],
   "source": [
    "game = Game(config)\n",
    "game.set_game()\n",
    "players = game.players"
   ]
  },
  {
   "cell_type": "code",
   "execution_count": null,
   "metadata": {},
   "outputs": [],
   "source": [
    "def get_sequences():\n",
    "    for p in players:\n",
    "        if p.is_alive(): game.convert_sequence(p, input(p))\n",
    "    for p in players:\n",
    "        print(p.sequence)"
   ]
  },
  {
   "cell_type": "code",
   "execution_count": null,
   "metadata": {},
   "outputs": [],
   "source": [
    "'''\n",
    "    游戏主循环，会一直运行到游戏结束\n",
    "    每轮会依次跳出对话框，分别输入对应玩家的操作\n",
    "    错误的操作会变成爆点\n",
    "'''\n",
    "\n",
    "get_sequences()\n",
    "while(not game.phase()):\n",
    "    print(players)\n",
    "    get_sequences()\n",
    "print(players)"
   ]
  },
  {
   "cell_type": "code",
   "execution_count": null,
   "metadata": {},
   "outputs": [],
   "source": [
    "print(game.ranking)"
   ]
  }
 ],
 "metadata": {
  "kernelspec": {
   "display_name": "base",
   "language": "python",
   "name": "python3"
  },
  "language_info": {
   "codemirror_mode": {
    "name": "ipython",
    "version": 3
   },
   "file_extension": ".py",
   "mimetype": "text/x-python",
   "name": "python",
   "nbconvert_exporter": "python",
   "pygments_lexer": "ipython3",
   "version": "3.9.12"
  }
 },
 "nbformat": 4,
 "nbformat_minor": 2
}
