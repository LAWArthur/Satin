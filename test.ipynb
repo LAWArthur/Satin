{
 "cells": [
  {
   "cell_type": "code",
   "execution_count": 1,
   "metadata": {},
   "outputs": [],
   "source": [
    "from game import Game, Skill, Player\n",
    "from skills import Bing, SaTin, NormalDefense, Pass, Barbarian, Lightning, ShiranuiMai, Defense_T, ArrowRain, LargeArrowRain, Suicide, AntiSuicide, BaSa, Lona, NuclearBomb, Peach\n",
    "from config import config"
   ]
  },
  {
   "cell_type": "code",
   "execution_count": 2,
   "metadata": {},
   "outputs": [],
   "source": [
    "class TestAttack(Skill):\n",
    "    def __init__(self, player: Player, targets: list[Player], attack: int, cost: int) -> None:\n",
    "        super().__init__(player, targets, attack, cost)\n",
    "\n",
    "    def get_resistance(self, source: Player):\n",
    "        return self.attack\n",
    "\n",
    "    def phase_0(self, target):\n",
    "        target.hp -= self.attack"
   ]
  },
  {
   "cell_type": "code",
   "execution_count": 12,
   "metadata": {},
   "outputs": [
    {
     "name": "stdout",
     "output_type": "stream",
     "text": [
      "^a$\n",
      "^([0-9]+)s8$\n",
      "^([0-9]+)(((s+)([0-9]*))((d+)([0-9]*))?|((d+)([0-9]*)))\n",
      "^f$\n",
      "^([0-9]+)q$\n",
      "^([0-9]*)e\n",
      "^([0-9]*)g\n",
      "^([0-9]*)h\n",
      "^r\n",
      "^w\n",
      "^w\n",
      "^fe$\n",
      "^fg$\n",
      "^fh$\n",
      "^z$\n",
      "^x$\n",
      "^c$\n",
      "^l$\n",
      "^v$\n",
      "^juesha$\n",
      "^(t+)([1-9][0-9]*)?$\n"
     ]
    }
   ],
   "source": [
    "game = Game(config)\n",
    "game.set_game()\n",
    "players = game.players"
   ]
  },
  {
   "cell_type": "code",
   "execution_count": null,
   "metadata": {},
   "outputs": [],
   "source": [
    "players[0].sequence = [Bing(players[0])]"
   ]
  },
  {
   "cell_type": "code",
   "execution_count": null,
   "metadata": {},
   "outputs": [],
   "source": [
    "players[0].sequence = [TestAttack(players[0], [players[1]], 2, 2)]"
   ]
  },
  {
   "cell_type": "code",
   "execution_count": null,
   "metadata": {},
   "outputs": [],
   "source": [
    "players[2].sequence = [Bing(players[2])]"
   ]
  },
  {
   "cell_type": "code",
   "execution_count": null,
   "metadata": {},
   "outputs": [],
   "source": [
    "players[1].sequence = [TestAttack(players[1], [players[0]], 5, 10)]"
   ]
  },
  {
   "cell_type": "code",
   "execution_count": 13,
   "metadata": {},
   "outputs": [],
   "source": [
    "players[0].cost = 10000\n",
    "players[1].cost = 10000\n",
    "players[2].cost = 10000"
   ]
  },
  {
   "cell_type": "code",
   "execution_count": 4,
   "metadata": {},
   "outputs": [],
   "source": [
    "players[0].sequence = [LargeArrowRain(players[0])]"
   ]
  },
  {
   "cell_type": "code",
   "execution_count": null,
   "metadata": {},
   "outputs": [],
   "source": [
    "players[0].sequence = [SaTin(players[0], [players[1]],1, 3)]"
   ]
  },
  {
   "cell_type": "code",
   "execution_count": null,
   "metadata": {},
   "outputs": [],
   "source": [
    "players[1].sequence = [SaTin(players[1], [players[0]], 0, 3)]"
   ]
  },
  {
   "cell_type": "code",
   "execution_count": null,
   "metadata": {},
   "outputs": [],
   "source": [
    "players[1].sequence = [Defense_T(players[1], Barbarian)]"
   ]
  },
  {
   "cell_type": "code",
   "execution_count": 5,
   "metadata": {},
   "outputs": [],
   "source": [
    "players[2].sequence = [NormalDefense(players[2])]"
   ]
  },
  {
   "cell_type": "code",
   "execution_count": null,
   "metadata": {},
   "outputs": [],
   "source": [
    "players[1].sequence = [Pass(players[1], players[2])]"
   ]
  },
  {
   "cell_type": "code",
   "execution_count": null,
   "metadata": {},
   "outputs": [],
   "source": [
    "players[2].sequence = [Pass(players[2], players[0])]"
   ]
  },
  {
   "cell_type": "code",
   "execution_count": null,
   "metadata": {},
   "outputs": [],
   "source": [
    "players[2].sequence = [Suicide(players[2])]"
   ]
  },
  {
   "cell_type": "code",
   "execution_count": null,
   "metadata": {},
   "outputs": [],
   "source": [
    "players[1].sequence = [AntiSuicide(players[1])]"
   ]
  },
  {
   "cell_type": "code",
   "execution_count": null,
   "metadata": {},
   "outputs": [],
   "source": [
    "players[0].sequence = [NuclearBomb(players[0])]"
   ]
  },
  {
   "cell_type": "code",
   "execution_count": 9,
   "metadata": {},
   "outputs": [],
   "source": [
    "players[1].sequence = [Peach(players[1], players[1], 2)]"
   ]
  },
  {
   "cell_type": "code",
   "execution_count": null,
   "metadata": {},
   "outputs": [],
   "source": [
    "game.phase()"
   ]
  },
  {
   "cell_type": "code",
   "execution_count": null,
   "metadata": {},
   "outputs": [],
   "source": [
    "print(players)"
   ]
  },
  {
   "cell_type": "code",
   "execution_count": null,
   "metadata": {},
   "outputs": [],
   "source": [
    "print(players[0].sequence[0].targets)"
   ]
  },
  {
   "cell_type": "code",
   "execution_count": null,
   "metadata": {},
   "outputs": [],
   "source": [
    "players[1].get_defenses(players[0])"
   ]
  },
  {
   "cell_type": "code",
   "execution_count": 3,
   "metadata": {},
   "outputs": [],
   "source": [
    "import re\n",
    "m = re.match(r'([0-9]+)((s+)([0-9]*))?((d+)([0-9]*))?', '1s3d5')"
   ]
  },
  {
   "cell_type": "code",
   "execution_count": null,
   "metadata": {},
   "outputs": [],
   "source": [
    "print(m.groups())"
   ]
  },
  {
   "cell_type": "code",
   "execution_count": 14,
   "metadata": {},
   "outputs": [
    {
     "name": "stdout",
     "output_type": "stream",
     "text": [
      "^f$\n"
     ]
    },
    {
     "ename": "NameError",
     "evalue": "name 're' is not defined",
     "output_type": "error",
     "traceback": [
      "\u001b[1;31m---------------------------------------------------------------------------\u001b[0m",
      "\u001b[1;31mNameError\u001b[0m                                 Traceback (most recent call last)",
      "Input \u001b[1;32mIn [14]\u001b[0m, in \u001b[0;36m<cell line: 8>\u001b[1;34m()\u001b[0m\n\u001b[0;32m      6\u001b[0m     pat \u001b[38;5;241m=\u001b[39m pat\u001b[38;5;241m.\u001b[39mreplace(\u001b[38;5;124mf\u001b[39m\u001b[38;5;124m'\u001b[39m\u001b[38;5;124m<\u001b[39m\u001b[38;5;132;01m{\u001b[39;00mk\u001b[38;5;132;01m}\u001b[39;00m\u001b[38;5;124m>\u001b[39m\u001b[38;5;124m'\u001b[39m, v)\n\u001b[0;32m      7\u001b[0m \u001b[38;5;28mprint\u001b[39m(pat)\n\u001b[1;32m----> 8\u001b[0m m \u001b[38;5;241m=\u001b[39m \u001b[43mre\u001b[49m\u001b[38;5;241m.\u001b[39mmatch(pat, \u001b[38;5;124m'\u001b[39m\u001b[38;5;124m2q\u001b[39m\u001b[38;5;124m'\u001b[39m)\n\u001b[0;32m      9\u001b[0m \u001b[38;5;28;01mif\u001b[39;00m m \u001b[38;5;129;01mis\u001b[39;00m \u001b[38;5;129;01mnot\u001b[39;00m \u001b[38;5;28;01mNone\u001b[39;00m:\n\u001b[0;32m     10\u001b[0m     \u001b[38;5;28mprint\u001b[39m([p\u001b[38;5;241m.\u001b[39mvalue(m, players[\u001b[38;5;241m0\u001b[39m]) \u001b[38;5;28;01mfor\u001b[39;00m p \u001b[38;5;129;01min\u001b[39;00m c[\u001b[38;5;124m'\u001b[39m\u001b[38;5;124mparameters\u001b[39m\u001b[38;5;124m'\u001b[39m]])\n",
      "\u001b[1;31mNameError\u001b[0m: name 're' is not defined"
     ]
    }
   ],
   "source": [
    "from config import config\n",
    "c = config['allowed_skills'][3]\n",
    "rep = config['key_binds']\n",
    "pat: str = '^' + c['pattern'] + ('$' if c['single'] else '')\n",
    "for k,v in rep.items():\n",
    "    pat = pat.replace(f'<{k}>', v)\n",
    "print(pat)\n",
    "m = re.match(pat, '2q')\n",
    "if m is not None:\n",
    "    print([p.value(m, players[0]) for p in c['parameters']])"
   ]
  },
  {
   "cell_type": "code",
   "execution_count": 15,
   "metadata": {},
   "outputs": [
    {
     "name": "stdout",
     "output_type": "stream",
     "text": [
      "^a$ None\n",
      "^([0-9]+)s8$ None\n",
      "^([0-9]+)(((s+)([0-9]*))((d+)([0-9]*))?|((d+)([0-9]*))) None\n",
      "^f$ None\n",
      "^([0-9]+)q$ None\n",
      "^([0-9]*)e None\n",
      "^([0-9]*)g None\n",
      "^([0-9]*)h None\n",
      "^r None\n",
      "^w None\n",
      "^w None\n",
      "^fe$ None\n",
      "^fg$ None\n",
      "^fh$ None\n",
      "^z$ None\n",
      "^x$ None\n",
      "^c$ None\n",
      "^l$ None\n",
      "^v$ None\n",
      "^juesha$ None\n",
      "^(t+)([1-9][0-9]*)?$ <re.Match object; span=(0, 4), match='tttt'>\n",
      "^a$ None\n",
      "^([0-9]+)s8$ None\n",
      "^([0-9]+)(((s+)([0-9]*))((d+)([0-9]*))?|((d+)([0-9]*))) None\n",
      "^f$ None\n",
      "^([0-9]+)q$ None\n",
      "^([0-9]*)e <re.Match object; span=(0, 1), match='e'>\n",
      "^a$ None\n",
      "^([0-9]+)s8$ None\n",
      "^([0-9]+)(((s+)([0-9]*))((d+)([0-9]*))?|((d+)([0-9]*))) None\n",
      "^f$ None\n",
      "^([0-9]+)q$ None\n",
      "^([0-9]*)e None\n",
      "^([0-9]*)g None\n",
      "^([0-9]*)h None\n",
      "^r None\n",
      "^w None\n",
      "^w None\n",
      "^fe$ <re.Match object; span=(0, 2), match='fe'>\n"
     ]
    }
   ],
   "source": [
    "game.convert_sequence(players[0], 'tttt')\n",
    "game.convert_sequence(players[1], 'e')\n",
    "game.convert_sequence(players[2], 'fe')"
   ]
  },
  {
   "cell_type": "code",
   "execution_count": 16,
   "metadata": {},
   "outputs": [
    {
     "name": "stdout",
     "output_type": "stream",
     "text": [
      "[Peach(Player 0(hp=6,cost=10000) -> [Player 0(hp=6,cost=10000)], atk = 0, cost = 12)]\n"
     ]
    }
   ],
   "source": [
    "print(players[0].sequence)"
   ]
  },
  {
   "cell_type": "code",
   "execution_count": 17,
   "metadata": {},
   "outputs": [
    {
     "name": "stdout",
     "output_type": "stream",
     "text": [
      "{}\n",
      "Player 0(hp=6,cost=9988) [Peach(Player 0(hp=6,cost=9988) -> [Player 0(hp=6,cost=9988)], atk = 0, cost = 12)]\n",
      "Player 0(hp=6,cost=9988) []\n",
      "Player 0(hp=6,cost=9988) []\n",
      "Player 1(hp=6,cost=9997) [Barbarian(Player 1(hp=6,cost=9997) -> [Player 0(hp=6,cost=9988), Player 2(hp=6,cost=10000)], atk = 3, cost = 3)]\n",
      "Player 1(hp=6,cost=9997) []\n",
      "Player 1(hp=6,cost=9997) [Barbarian(Player 1(hp=6,cost=9997) -> [Player 0(hp=6,cost=9988), Player 2(hp=6,cost=10000)], atk = 3, cost = 3)]\n",
      "Player 2(hp=6,cost=10000) []\n",
      "Player 2(hp=6,cost=10000) []\n",
      "Player 2(hp=6,cost=10000) []\n",
      "{}\n",
      "[Player 0(hp=9,cost=0), Player 1(hp=6,cost=0), Player 2(hp=6,cost=0)]\n"
     ]
    }
   ],
   "source": [
    "print(game.phase())\n",
    "print(players)"
   ]
  }
 ],
 "metadata": {
  "kernelspec": {
   "display_name": "base",
   "language": "python",
   "name": "python3"
  },
  "language_info": {
   "codemirror_mode": {
    "name": "ipython",
    "version": 3
   },
   "file_extension": ".py",
   "mimetype": "text/x-python",
   "name": "python",
   "nbconvert_exporter": "python",
   "pygments_lexer": "ipython3",
   "version": "3.9.12"
  }
 },
 "nbformat": 4,
 "nbformat_minor": 2
}
